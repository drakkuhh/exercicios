{
 "cells": [
  {
   "cell_type": "code",
   "execution_count": 5,
   "id": "3f45757b-4123-4e57-b8c7-a04abb254655",
   "metadata": {},
   "outputs": [
    {
     "name": "stdin",
     "output_type": "stream",
     "text": [
      "entre com a primeira palavra:  bbb\n",
      "entre com a segunda palavra:  qqqq\n"
     ]
    },
    {
     "name": "stdout",
     "output_type": "stream",
     "text": [
      "bqbqbqq\n"
     ]
    }
   ],
   "source": [
    "def intercalar(string1=None, string2=None):\n",
    "    palavra1 = list(string1)\n",
    "    palavra2 = list(string2)\n",
    "    result = ''\n",
    "    while palavra1 or palavra2:\n",
    "        if palavra1:\n",
    "            result += palavra1.pop(0)\n",
    "        if palavra2:\n",
    "            result += palavra2.pop(0)\n",
    "    return result\n",
    "\n",
    "palavra1 = input('entre com a primeira palavra: ')\n",
    "palavra2 = input('entre com a segunda palavra: ')\n",
    "\n",
    "if __name__ == '__main__':\n",
    "    print( intercalar(string1=palavra1, string2=palavra2))\n"
   ]
  },
  {
   "cell_type": "code",
   "execution_count": 1,
   "id": "f0f73bc1-993f-4062-9dc1-84264d339498",
   "metadata": {},
   "outputs": [
    {
     "name": "stdin",
     "output_type": "stream",
     "text": [
      "entre com a primeira palavra:  bbbb\n",
      "entre com a segunda palavra:  qqqq\n"
     ]
    },
    {
     "name": "stdout",
     "output_type": "stream",
     "text": [
      "bqbqbqbq\n"
     ]
    }
   ],
   "source": [
    "def intercalar(string1, string2):\n",
    "    palavra1 = list(string1)\n",
    "    palavra2 = list(string2)\n",
    "    result = \"\"\n",
    "    while palavra1 or palavra2:\n",
    "        if palavra1:\n",
    "            result += palavra1.pop(0)\n",
    "        if palavra2:\n",
    "            result += palavra2.pop(0)\n",
    "    return result\n",
    "\n",
    "palavra1 = input('entre com a primeira palavra: ')\n",
    "palavra2 = input('entre com a segunda palavra: ')\n",
    "\n",
    "print( intercalar(string1=palavra1, string2=palavra2))\n"
   ]
  },
  {
   "cell_type": "code",
   "execution_count": null,
   "id": "c1c5b4e9-52d6-428b-a766-86ec3f2a965f",
   "metadata": {},
   "outputs": [],
   "source": []
  }
 ],
 "metadata": {
  "kernelspec": {
   "display_name": "Python 3 (ipykernel)",
   "language": "python",
   "name": "python3"
  },
  "language_info": {
   "codemirror_mode": {
    "name": "ipython",
    "version": 3
   },
   "file_extension": ".py",
   "mimetype": "text/x-python",
   "name": "python",
   "nbconvert_exporter": "python",
   "pygments_lexer": "ipython3",
   "version": "3.12.7"
  }
 },
 "nbformat": 4,
 "nbformat_minor": 5
}
